{
 "nbformat": 4,
 "nbformat_minor": 0,
 "metadata": {
  "colab": {
   "name": "fasttext synonym generator.ipynb",
   "provenance": [],
   "collapsed_sections": []
  },
  "kernelspec": {
   "name": "python3",
   "display_name": "Python 3"
  },
  "language_info": {
   "name": "python"
  }
 },
 "cells": [
  {
   "cell_type": "markdown",
   "metadata": {
    "id": "6A4S0A5c-Fzn"
   },
   "source": [
    "**Run on Google Colab**\n",
    "\n",
    "[Fast text](https://fasttext.cc/docs/en/crawl-vectors.html)"
   ]
  },
  {
   "cell_type": "code",
   "metadata": {
    "id": "AsKO5Bez-EgV"
   },
   "source": [
    "# mount Google drive to retrieve pre downloaded cc.si.300.bin; \n",
    "# cc.si.300.bin can be downloaded https://dl.fbaipublicfiles.com/fasttext/vectors-crawl/cc.si.300.bin.gz\n",
    "from google.colab import drive\n",
    "drive.mount('/content/drive')"
   ],
   "execution_count": null,
   "outputs": []
  },
  {
   "cell_type": "code",
   "metadata": {
    "colab": {
     "base_uri": "https://localhost:8080/"
    },
    "id": "ANyrhpJjsnKB",
    "outputId": "833a5464-7cf6-4592-e254-cfdae5c25fe1"
   },
   "source": [
    "!git clone https://github.com/facebookresearch/fastText.git\n",
    "!sudo pip install fastText\n",
    "import fasttext\n",
    "# fasttext.util.download_model('si', if_exists='ignore')  # Sinhala\n",
    "# ft = fasttext.load_model('cc.si.300.bin')\n",
    "ft = fasttext.load_model(r'/content/drive/Shareddrives/Project- Rephrasing Legal Documents in Layman Terms/Datasets/cc.si.300.bin') # using the cc.si.300.bin model downloaded to Google drive"
   ],
   "execution_count": null,
   "outputs": [
    {
     "output_type": "stream",
     "text": [
      "Warning : `load_model` does not return WordVectorModel or SupervisedModel any more, but a `FastText` object which is very similar.\n"
     ],
     "name": "stderr"
    }
   ]
  },
  {
   "cell_type": "code",
   "metadata": {
    "id": "2We6uHZ3hxT9"
   },
   "source": [
    "sinhala_start = 3456\n",
    "vowels_and_const_end = 3527\n",
    "sinhala_end = 3573\n",
    "\n",
    "def is_strictly_sinhala_word(word):\n",
    "    for ch in word:\n",
    "        unicode_val = ord(ch)\n",
    "        if not (sinhala_start <= unicode_val <= sinhala_end):\n",
    "            return False\n",
    "    return True"
   ],
   "execution_count": null,
   "outputs": []
  },
  {
   "cell_type": "code",
   "metadata": {
    "id": "3a8mMUqHr-rj"
   },
   "source": [
    "words_file = open(r'/content/drive/Shareddrives/Project- Rephrasing Legal Documents in Layman Terms/Datasets/si_words_filtered.txt')\n",
    "words = words_file.readlines()\n",
    "words = words[0:300]\n",
    "synon_dict = dict()\n",
    "total_work = len(words)\n",
    "from tqdm import tqdm_notebook\n",
    "for i in tqdm_notebook(range(len(words))):\n",
    "    word = words[i].strip()\n",
    "    synon = ft.get_nearest_neighbors(word)[0][1]\n",
    "    if is_strictly_sinhala_word(synon):\n",
    "        synon_dict[word] = synon\n",
    "import json\n",
    "with open(\"out.json\", \"w\", encoding='utf8') as f:\n",
    "    json.dump(synon_dict, f, ensure_ascii=False)"
   ],
   "execution_count": null,
   "outputs": []
  },
  {
   "cell_type": "code",
   "metadata": {
    "id": "i5h_Q4B7EPMf"
   },
   "source": [
    "!cp 'out.json' '/content/drive/Shareddrives/Project- Rephrasing Legal Documents in Layman Terms/Datasets/si_synon.json'"
   ],
   "execution_count": null,
   "outputs": []
  }
 ]
}