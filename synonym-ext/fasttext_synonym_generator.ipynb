{
  "nbformat": 4,
  "nbformat_minor": 0,
  "metadata": {
    "colab": {
      "name": "fasttext synonym generator.ipynb",
      "provenance": [],
      "collapsed_sections": []
    },
    "kernelspec": {
      "name": "python3",
      "display_name": "Python 3"
    },
    "language_info": {
      "name": "python"
    }
  },
  "cells": [
    {
      "cell_type": "markdown",
      "metadata": {
        "id": "6A4S0A5c-Fzn"
      },
      "source": [
        "**Run on Google Colab**\n",
        "\n",
        "[Fast text](https://fasttext.cc/docs/en/crawl-vectors.html)"
      ]
    },
    {
      "cell_type": "code",
      "metadata": {
        "id": "AsKO5Bez-EgV"
      },
      "source": [
        "# mount Google drive to retrieve pre downloaded cc.si.300.bin; \n",
        "# can be found on https://dl.fbaipublicfiles.com/fasttext/vectors-crawl/cc.si.300.bin.gz\n",
        "from google.colab import drive\n",
        "drive.mount('/content/drive')"
      ],
      "execution_count": null,
      "outputs": []
    },
    {
      "cell_type": "code",
      "metadata": {
        "id": "ANyrhpJjsnKB"
      },
      "source": [
        "!git clone https://github.com/facebookresearch/fastText.git\n",
        "!sudo pip install fastText\n",
        "# fasttext.util.download_model('si', if_exists='ignore')  # Sinhala\n",
        "# ft = fasttext.load_model('cc.si.300.bin')\n",
        "ft = fasttext.load_model(r'/content/drive/Shareddrives/Project- Rephrasing Legal Documents in Layman Terms/Datasets/cc.si.300.bin') # using the cc.si.300.bin model downloaded to Google drive"
      ],
      "execution_count": null,
      "outputs": []
    },
    {
      "cell_type": "code",
      "metadata": {
        "id": "3a8mMUqHr-rj"
      },
      "source": [
        "words_file = open(r'/content/drive/Shareddrives/Project- Rephrasing Legal Documents in Layman Terms/Datasets/si_words_filtered.txt')\n",
        "words = words_file.readlines()\n",
        "synon_dict = dict()\n",
        "for word in words:\n",
        "    synon_dict[word] = ft.get_nearest_neighbors(word)[0][1]\n",
        "import json\n",
        "with open(\"out.json\", \"w\", encoding='utf8') as f:\n",
        "    json.dump(synon_dict, f, ensure_ascii=False)"
      ],
      "execution_count": null,
      "outputs": []
    }
  ]
}